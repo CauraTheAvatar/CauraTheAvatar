{
  "nbformat": 4,
  "nbformat_minor": 0,
  "metadata": {
    "colab": {
      "provenance": [],
      "authorship_tag": "ABX9TyOraaIxOzL6zUIMLScGECkv",
      "include_colab_link": true
    },
    "kernelspec": {
      "name": "python3",
      "display_name": "Python 3"
    },
    "language_info": {
      "name": "python"
    }
  },
  "cells": [
    {
      "cell_type": "markdown",
      "metadata": {
        "id": "view-in-github",
        "colab_type": "text"
      },
      "source": [
        "<a href=\"https://colab.research.google.com/github/CauraTheAvatar/CauraTheAvatar/blob/main/CauraAIQ2.ipynb\" target=\"_parent\"><img src=\"https://colab.research.google.com/assets/colab-badge.svg\" alt=\"Open In Colab\"/></a>"
      ]
    },
    {
      "cell_type": "markdown",
      "source": [
        "# Hill Climb Algorithm"
      ],
      "metadata": {
        "id": "xUSOO_nw070k"
      }
    },
    {
      "cell_type": "code",
      "source": [
        "import numpy as np\n",
        "from copy import deepcopy\n",
        "from copy import copy\n",
        "import sys\n",
        "import numpy\n",
        "numpy.set_printoptions(threshold=sys.maxsize)\n",
        "import random\n",
        "import matplotlib.pyplot as plt\n",
        "\n",
        "!pip install ortools\n",
        "from ortools.constraint_solver import pywrapcp\n",
        "\n",
        "%matplotlib inline"
      ],
      "metadata": {
        "colab": {
          "base_uri": "https://localhost:8080/"
        },
        "id": "u1oJV9to1AIR",
        "outputId": "44856fae-0907-4669-e26f-88f7c350a67c"
      },
      "execution_count": 3,
      "outputs": [
        {
          "output_type": "stream",
          "name": "stdout",
          "text": [
            "Requirement already satisfied: ortools in /usr/local/lib/python3.10/dist-packages (9.10.4067)\n",
            "Requirement already satisfied: absl-py>=2.0.0 in /usr/local/lib/python3.10/dist-packages (from ortools) (2.1.0)\n",
            "Requirement already satisfied: numpy>=1.13.3 in /usr/local/lib/python3.10/dist-packages (from ortools) (1.25.2)\n",
            "Requirement already satisfied: pandas>=2.0.0 in /usr/local/lib/python3.10/dist-packages (from ortools) (2.0.3)\n",
            "Requirement already satisfied: protobuf>=5.26.1 in /usr/local/lib/python3.10/dist-packages (from ortools) (5.26.1)\n",
            "Requirement already satisfied: immutabledict>=3.0.0 in /usr/local/lib/python3.10/dist-packages (from ortools) (4.2.0)\n",
            "Requirement already satisfied: python-dateutil>=2.8.2 in /usr/local/lib/python3.10/dist-packages (from pandas>=2.0.0->ortools) (2.8.2)\n",
            "Requirement already satisfied: pytz>=2020.1 in /usr/local/lib/python3.10/dist-packages (from pandas>=2.0.0->ortools) (2023.4)\n",
            "Requirement already satisfied: tzdata>=2022.1 in /usr/local/lib/python3.10/dist-packages (from pandas>=2.0.0->ortools) (2024.1)\n",
            "Requirement already satisfied: six>=1.5 in /usr/local/lib/python3.10/dist-packages (from python-dateutil>=2.8.2->pandas>=2.0.0->ortools) (1.16.0)\n"
          ]
        }
      ]
    },
    {
      "cell_type": "markdown",
      "source": [
        "# Data Structures"
      ],
      "metadata": {
        "id": "kIHaRV961-0e"
      }
    },
    {
      "cell_type": "code",
      "source": [
        "# Defining the Destination (City) Class\n",
        "class City:\n",
        "  def __init__(self, name, x, y):\n",
        "    self.name = name\n",
        "    self.coordinates = (x, y)\n",
        "    self.distances = {}\n",
        "\n",
        "  def add_distance(self, city, distance):\n",
        "    self.distances[city.name] = distance\n",
        "\n",
        "  def get_distance_to(self, city_name):\n",
        "    return self.distances.get(city_name)\n",
        "\n",
        "  def __str__(self):\n",
        "    return f\"City: {self.name} - Coordinates: {self.coordinates} - Distances: {self.distances}\""
      ],
      "metadata": {
        "id": "iCjEoijr11gG"
      },
      "execution_count": 4,
      "outputs": []
    },
    {
      "cell_type": "code",
      "source": [
        "# Creating Destination Objects and Adding the Distances\n",
        "city1 = City(\"Dorado Park\", 139, 35)\n",
        "city2 = City(\"Auas Blick\", 2, 49)\n",
        "city3 = City(\"Wanaheda\", -43, -23)\n",
        "city4 = City(\"Klein Windhoek\", 18, -34)\n",
        "city5 = City(\"Eros\", 145, -38)\n",
        "\n",
        "city1.add_distance(city2, 4824)\n",
        "city1.add_distance(city3, 3522)\n",
        "city1.add_distance(city4, 1826)\n",
        "city1.add_distance(city5, 4844)\n",
        "\n",
        "city2.add_distance(city1, 2387)\n",
        "city2.add_distance(city3, 3749)\n",
        "city2.add_distance(city4, 4012)\n",
        "city2.add_distance(city5, 3354)\n",
        "\n",
        "city3.add_distance(city1, 713)\n",
        "city3.add_distance(city2, 3788)\n",
        "city3.add_distance(city4, 2817)\n",
        "city3.add_distance(city5, 2072)\n",
        "\n",
        "city4.add_distance(city1, 1307)\n",
        "city4.add_distance(city2, 3174)\n",
        "city4.add_distance(city3, 2907)\n",
        "city4.add_distance(city5, 3244)\n",
        "\n",
        "city5.add_distance(city1, 2335)\n",
        "city5.add_distance(city2, 4602)\n",
        "city5.add_distance(city3, 3818)\n",
        "city5.add_distance(city4, 3337)\n",
        "\n",
        "print(city1)\n",
        "print(city2)\n",
        "print(city3)\n",
        "print(city4)\n",
        "print(city5)"
      ],
      "metadata": {
        "colab": {
          "base_uri": "https://localhost:8080/"
        },
        "id": "e093zxTS2GAN",
        "outputId": "fb8c552a-80f0-4fca-f9e7-693fb43db781"
      },
      "execution_count": 5,
      "outputs": [
        {
          "output_type": "stream",
          "name": "stdout",
          "text": [
            "City: Dorado Park - Coordinates: (139, 35) - Distances: {'Auas Blick': 4824, 'Wanaheda': 3522, 'Klein Windhoek': 1826, 'Eros': 4844}\n",
            "City: Auas Blick - Coordinates: (2, 49) - Distances: {'Dorado Park': 2387, 'Wanaheda': 3749, 'Klein Windhoek': 4012, 'Eros': 3354}\n",
            "City: Wanaheda - Coordinates: (-43, -23) - Distances: {'Dorado Park': 713, 'Auas Blick': 3788, 'Klein Windhoek': 2817, 'Eros': 2072}\n",
            "City: Klein Windhoek - Coordinates: (18, -34) - Distances: {'Dorado Park': 1307, 'Auas Blick': 3174, 'Wanaheda': 2907, 'Eros': 3244}\n",
            "City: Eros - Coordinates: (145, -38) - Distances: {'Dorado Park': 2335, 'Auas Blick': 4602, 'Wanaheda': 3818, 'Klein Windhoek': 3337}\n"
          ]
        }
      ]
    },
    {
      "cell_type": "markdown",
      "source": [
        "### Display Data"
      ],
      "metadata": {
        "id": "wN3SeQin2NFU"
      }
    },
    {
      "cell_type": "code",
      "source": [
        "# Always ensure that the destinations(City) being plotted are lists of arrays\n",
        "cities = [(139, 35), (2, 49), (-43, -23), (18, -34), (145, -38)]\n"
      ],
      "metadata": {
        "id": "8P7pk5cF2OUJ"
      },
      "execution_count": 6,
      "outputs": []
    },
    {
      "cell_type": "code",
      "source": [
        "index = [str(city) for city in cities]"
      ],
      "metadata": {
        "id": "Si78WZpj4ue8"
      },
      "execution_count": 7,
      "outputs": []
    },
    {
      "cell_type": "code",
      "source": [
        "# plt.plot(city1, city2, city3, city4, city5, 'o')\n",
        "# # plt.show()"
      ],
      "metadata": {
        "id": "XuFmXwUF4baw"
      },
      "execution_count": 8,
      "outputs": []
    },
    {
      "cell_type": "code",
      "source": [
        "import string"
      ],
      "metadata": {
        "id": "vFfREPBz6UDr"
      },
      "execution_count": 9,
      "outputs": []
    },
    {
      "cell_type": "code",
      "source": [
        "print(cities)"
      ],
      "metadata": {
        "colab": {
          "base_uri": "https://localhost:8080/"
        },
        "id": "nyJEESpd5xLh",
        "outputId": "fb603f3b-6ecf-4ab2-a1bb-f6acd6494aa8"
      },
      "execution_count": 10,
      "outputs": [
        {
          "output_type": "stream",
          "name": "stdout",
          "text": [
            "[(139, 35), (2, 49), (-43, -23), (18, -34), (145, -38)]\n"
          ]
        }
      ]
    },
    {
      "cell_type": "code",
      "source": [
        "for city in cities:\n",
        "  print(type(city))"
      ],
      "metadata": {
        "colab": {
          "base_uri": "https://localhost:8080/"
        },
        "id": "Smco-9445z2d",
        "outputId": "6d7459ee-a54d-4cfd-8ffa-70b35e92d963"
      },
      "execution_count": 11,
      "outputs": [
        {
          "output_type": "stream",
          "name": "stdout",
          "text": [
            "<class 'tuple'>\n",
            "<class 'tuple'>\n",
            "<class 'tuple'>\n",
            "<class 'tuple'>\n",
            "<class 'tuple'>\n"
          ]
        }
      ]
    },
    {
      "cell_type": "code",
      "source": [
        "index = [str(city) for city in cities]\n",
        "x = [city for city in cities][1]\n",
        "y = [city for city in cities][2]"
      ],
      "metadata": {
        "id": "1PSv4-jt6ufQ"
      },
      "execution_count": 12,
      "outputs": []
    },
    {
      "cell_type": "code",
      "source": [
        "print(index)\n",
        "print(x)\n",
        "print(y)"
      ],
      "metadata": {
        "colab": {
          "base_uri": "https://localhost:8080/"
        },
        "id": "A3380eef7Wke",
        "outputId": "f4e0d627-8086-4b05-abbc-cead02ef56ba"
      },
      "execution_count": 13,
      "outputs": [
        {
          "output_type": "stream",
          "name": "stdout",
          "text": [
            "['(139, 35)', '(2, 49)', '(-43, -23)', '(18, -34)', '(145, -38)']\n",
            "(2, 49)\n",
            "(-43, -23)\n"
          ]
        }
      ]
    },
    {
      "cell_type": "code",
      "source": [
        "plt.style.use('seaborn-whitegrid')\n",
        "\n",
        "plt.plot(y, x, 'o', color='black')"
      ],
      "metadata": {
        "colab": {
          "base_uri": "https://localhost:8080/",
          "height": 497
        },
        "id": "SmB2P3vX7_5v",
        "outputId": "a8e7106a-4377-42f8-e5b6-3fd1029ee347"
      },
      "execution_count": 14,
      "outputs": [
        {
          "output_type": "stream",
          "name": "stderr",
          "text": [
            "<ipython-input-14-37f44233f7ac>:1: MatplotlibDeprecationWarning: The seaborn styles shipped by Matplotlib are deprecated since 3.6, as they no longer correspond to the styles shipped by seaborn. However, they will remain available as 'seaborn-v0_8-<style>'. Alternatively, directly use the seaborn API instead.\n",
            "  plt.style.use('seaborn-whitegrid')\n"
          ]
        },
        {
          "output_type": "execute_result",
          "data": {
            "text/plain": [
              "[<matplotlib.lines.Line2D at 0x786ff45eaa40>]"
            ]
          },
          "metadata": {},
          "execution_count": 14
        },
        {
          "output_type": "display_data",
          "data": {
            "text/plain": [
              "<Figure size 640x480 with 1 Axes>"
            ],
            "image/png": "[encoded data removed]"
          },
          "metadata": {}
        }
      ]
    },
    {
      "cell_type": "markdown",
      "source": [
        "# Defining Functions"
      ],
      "metadata": {
        "id": "s8J0TmPf8NyM"
      }
    },
    {
      "cell_type": "markdown",
      "source": [
        "### Compute Distance Between Two Cities"
      ],
      "metadata": {
        "id": "RFLcK7nc8cpN"
      }
    },
    {
      "cell_type": "code",
      "source": [
        "if not isinstance(cities, list):\n",
        "  raise TypeError(\"cities must be a list\")"
      ],
      "metadata": {
        "id": "LM9jvCqy_irg"
      },
      "execution_count": 15,
      "outputs": []
    },
    {
      "cell_type": "code",
      "source": [
        "!pip install dataclasses"
      ],
      "metadata": {
        "colab": {
          "base_uri": "https://localhost:8080/"
        },
        "id": "LlBtqoMs_4Gn",
        "outputId": "147a488f-18b3-4944-a5b9-1f451ac0705b"
      },
      "execution_count": 1,
      "outputs": [
        {
          "output_type": "stream",
          "name": "stdout",
          "text": [
            "Requirement already satisfied: dataclasses in /usr/local/lib/python3.10/dist-packages (0.6)\n"
          ]
        }
      ]
    },
    {
      "cell_type": "code",
      "source": [
        "from dataclasses import dataclass"
      ],
      "metadata": {
        "id": "Xy_WhnY4ASKs"
      },
      "execution_count": 16,
      "outputs": []
    },
    {
      "cell_type": "code",
      "source": [
        "print(type(cities))\n",
        "print(cities)"
      ],
      "metadata": {
        "colab": {
          "base_uri": "https://localhost:8080/"
        },
        "id": "x04o-fju8ZW5",
        "outputId": "61327e0b-3573-4d07-b8fb-0e724a10627a"
      },
      "execution_count": 17,
      "outputs": [
        {
          "output_type": "stream",
          "name": "stdout",
          "text": [
            "<class 'list'>\n",
            "[(139, 35), (2, 49), (-43, -23), (18, -34), (145, -38)]\n"
          ]
        }
      ]
    },
    {
      "cell_type": "code",
      "source": [
        "x = [1, 2]\n",
        "y = [3, 4]"
      ],
      "metadata": {
        "id": "WJQwrV-HCmqy"
      },
      "execution_count": 18,
      "outputs": []
    },
    {
      "cell_type": "code",
      "source": [
        "def distance(x1,y1 ,x2,y2):\n",
        "  dis = np.sqrt(np.square(x1-x2) + np.square(y1-y2))\n",
        "  return dis\n",
        "\n",
        "print(f\"first ({x[0]},{y[0]}) and second ({x[1]},{y[1]})\")\n",
        "distance(x[0],y[0], x[1],y[1])"
      ],
      "metadata": {
        "colab": {
          "base_uri": "https://localhost:8080/"
        },
        "id": "z5d2g47wFfqq",
        "outputId": "846e392a-eca8-4b3a-ce5c-9098532c22d4"
      },
      "execution_count": 19,
      "outputs": [
        {
          "output_type": "stream",
          "name": "stdout",
          "text": [
            "first (1,3) and second (2,4)\n"
          ]
        },
        {
          "output_type": "execute_result",
          "data": {
            "text/plain": [
              "1.4142135623730951"
            ]
          },
          "metadata": {},
          "execution_count": 19
        }
      ]
    },
    {
      "cell_type": "markdown",
      "source": [
        "### Creating a Distance Matrix"
      ],
      "metadata": {
        "id": "KCAEYoDRFtvx"
      }
    },
    {
      "cell_type": "code",
      "source": [
        "def tsp_matrix(x,y):\n",
        "  tsp = []\n",
        "  row = []\n",
        "  for i in range(len(x)):\n",
        "    row.clear()\n",
        "    for j in range(len(x)):\n",
        "      row.append(distance(x[i], y[i], x[j], y[j]))\n",
        "    r = copy(row)\n",
        "    tsp.append(r)\n",
        "  return tsp"
      ],
      "metadata": {
        "id": "E3wdwsXxG3pa"
      },
      "execution_count": 20,
      "outputs": []
    },
    {
      "cell_type": "code",
      "source": [
        "# Testing Distance Matrix\n",
        "print(tsp_matrix(x,y))"
      ],
      "metadata": {
        "colab": {
          "base_uri": "https://localhost:8080/"
        },
        "id": "A_T9bDsXHT9E",
        "outputId": "c9c7e8ee-f0a4-4527-8f02-7f2f5a838df9"
      },
      "execution_count": null,
      "outputs": [
        {
          "output_type": "stream",
          "name": "stdout",
          "text": [
            "[[0.0, 1.4142135623730951], [1.4142135623730951, 0.0]]\n"
          ]
        }
      ]
    },
    {
      "cell_type": "markdown",
      "source": [
        "### Creating a Random Route Solution"
      ],
      "metadata": {
        "id": "EDvwQ-XFHeId"
      }
    },
    {
      "cell_type": "code",
      "source": [
        "from random import shuffle\n",
        "\n",
        "def generate_initial_route(num_places):\n",
        "  places = list(range(num_places))\n",
        "  random.shuffle(places)\n",
        "\n",
        "  return places"
      ],
      "metadata": {
        "id": "7vCCA5FgSpt1"
      },
      "execution_count": 21,
      "outputs": []
    },
    {
      "cell_type": "code",
      "source": [
        "def random_solution(tsp):\n",
        "  cities = list(range(len(tsp)))\n",
        "  solution = []\n",
        "\n",
        "  for i in range(len(tsp)):\n",
        "    random_city = cities[random.randint(0,len(cities)-1)]\n",
        "    solution.append(random_city)\n",
        "    cities.remove(random_city)\n",
        "\n",
        "  return solution"
      ],
      "metadata": {
        "id": "VvxSb93WHihi"
      },
      "execution_count": 22,
      "outputs": []
    },
    {
      "cell_type": "code",
      "source": [
        "# Tesing the Function\n",
        "tsp = tsp_matrix(x,y)\n",
        "print(random_solution(tsp), len(random_solution(tsp)))"
      ],
      "metadata": {
        "colab": {
          "base_uri": "https://localhost:8080/"
        },
        "id": "8jWnPbsZIeLx",
        "outputId": "e59c5842-07fd-42e2-ee16-43e91dcf338b"
      },
      "execution_count": 23,
      "outputs": [
        {
          "output_type": "stream",
          "name": "stdout",
          "text": [
            "[1, 0] 2\n"
          ]
        }
      ]
    },
    {
      "cell_type": "markdown",
      "source": [
        "### Route Length of the Solution"
      ],
      "metadata": {
        "id": "jOk87JbxI00k"
      }
    },
    {
      "cell_type": "code",
      "source": [
        "def route_length(tsp, solution):\n",
        "\n",
        "  length = 0\n",
        "  for i in range(len(solution)):\n",
        "    length += tsp[solution[i-1]][solution[i]]\n",
        "  return length"
      ],
      "metadata": {
        "id": "LZT_Fi2LI6RZ"
      },
      "execution_count": 24,
      "outputs": []
    },
    {
      "cell_type": "code",
      "source": [
        "# Testing Route Length Function\n",
        "tsp = tsp_matrix(x,y)\n",
        "rands = random_solution(tsp)\n",
        "print(route_length(tsp, rands))"
      ],
      "metadata": {
        "colab": {
          "base_uri": "https://localhost:8080/"
        },
        "id": "ox4lK17-JPhP",
        "outputId": "8e80b331-b36d-4a56-843c-6bca0db6dc92"
      },
      "execution_count": 25,
      "outputs": [
        {
          "output_type": "stream",
          "name": "stdout",
          "text": [
            "2.8284271247461903\n"
          ]
        }
      ]
    },
    {
      "cell_type": "markdown",
      "source": [
        "### Finding Neighbors of Solution"
      ],
      "metadata": {
        "id": "R5LHnAiaJksH"
      }
    },
    {
      "cell_type": "code",
      "source": [
        "def calculate_j(i, solution):\n",
        "    j = (i + 1) % len(solution)\n",
        "    return j\n",
        "\n",
        "# Define a solution list\n",
        "solution = [1, 2, 3, 4]\n",
        "\n",
        "# Pass the value of i and solution as arguments\n",
        "i = 0\n",
        "j = calculate_j(i, solution)\n"
      ],
      "metadata": {
        "id": "YTXFSsUjLg4e"
      },
      "execution_count": 34,
      "outputs": []
    },
    {
      "cell_type": "code",
      "source": [
        "def explore_neighbors(solution):\n",
        "  neighbors = []\n",
        "  #This for loop will make new list from solution by changing element positions\n",
        "  for i in range(len(solution)):\n",
        "    a = solution.copy()\n",
        "    a[i] = solution[j]\n",
        "    a[j] = solution[i]\n",
        "    neighbors.append(a)\n",
        "  return neighbors"
      ],
      "metadata": {
        "id": "UraW-t9IJsAC"
      },
      "execution_count": 35,
      "outputs": []
    },
    {
      "cell_type": "code",
      "source": [
        "# Testing Neighbors Function\n",
        "solution = random_solution(tsp)\n",
        "print(explore_neighbors(solution))"
      ],
      "metadata": {
        "colab": {
          "base_uri": "https://localhost:8080/"
        },
        "id": "3QT_9wvTKJWR",
        "outputId": "fc9eb8a4-e4b4-4bfb-c0e5-69e0e22c646d"
      },
      "execution_count": 36,
      "outputs": [
        {
          "output_type": "stream",
          "name": "stdout",
          "text": [
            "[[0, 1], [1, 0]]\n"
          ]
        }
      ]
    },
    {
      "cell_type": "markdown",
      "source": [
        "### Exploring Neighbors"
      ],
      "metadata": {
        "id": "Ng7atjz3TCnZ"
      }
    },
    {
      "cell_type": "code",
      "source": [
        "def explore_neighbor(route):\n",
        "  i, j = random.sample(range(len(route)), 2)\n",
        "  route[i], route[j] = route[j], route[i]\n",
        "  return route"
      ],
      "metadata": {
        "id": "nAyPp25PTF1G"
      },
      "execution_count": 37,
      "outputs": []
    },
    {
      "cell_type": "markdown",
      "source": [
        "### Finding the Best Neighbor"
      ],
      "metadata": {
        "id": "RtzawHQqMLjv"
      }
    },
    {
      "cell_type": "code",
      "source": [
        "def find_best_neighbor(tsp, neighbors):\n",
        "\n",
        "  # This serves as the initial answer\n",
        "  best_neighbor_length = route_length(tsp, neighbors[0])\n",
        "  best_neighbor = neighbors[0]\n",
        "\n",
        "  for i in neighbors:\n",
        "    current_length = route_length(tsp, i)\n",
        "    if current_length < best_neighbor_length:\n",
        "      best_neighbor_length = current_length\n",
        "      best_neighbor = i\n",
        "\n",
        "    return best_neighbor, best_neighbor_length"
      ],
      "metadata": {
        "id": "wJJCXuqIMSZd"
      },
      "execution_count": 38,
      "outputs": []
    },
    {
      "cell_type": "markdown",
      "source": [
        "### Plot Cost Function"
      ],
      "metadata": {
        "id": "o0naCN0QM_xM"
      }
    },
    {
      "cell_type": "code",
      "source": [
        "def plot_cost(cost_value):\n",
        "  iteration = []\n",
        "  for i in range(1, len(cost_value) +1):\n",
        "    iteration.append(i)\n",
        "\n",
        "  plt.plot(iteration, cost_value, 'o', color='blue');"
      ],
      "metadata": {
        "id": "6VQBPB-HNEbJ"
      },
      "execution_count": 39,
      "outputs": []
    },
    {
      "cell_type": "markdown",
      "source": [
        "### Hill Climbing Function"
      ],
      "metadata": {
        "id": "I0mCPNNmNh1E"
      }
    },
    {
      "cell_type": "code",
      "source": [
        "def hill_climbing(tsp):\n",
        "\n",
        "  cost_value = []\n",
        "\n",
        "  # Function to give a Random Road to All Destinations (cities)\n",
        "  current_solution = random_solution(tsp)\n",
        "\n",
        "  # Cost Value for Current Route\n",
        "  current_route_length = route_length(tsp, current_solution)\n",
        "  print(f\"The current solution is {current_solution} with a cost value of: {current_route_length}\")\n",
        "\n",
        "  neighbors = explore_neighbors(solution)\n",
        "  best_neighbor, best_neighbor_length = explore_best_neighbor(tsp, neighbors)\n",
        "\n",
        "  while best_neighbor_length < current_route_length:\n",
        "    current_solution = best_neighbor\n",
        "    print(f\"Current solution is {current_solution} with a cost value of: {current_route_length}\")\n",
        "    current_route_length = best_neighbor_length\n",
        "\n",
        "    cost_value.append(current_route_length)\n",
        "\n",
        "    neighbors = explore_neighbors(current_solution)\n",
        "    best_neighbor, best_neighbor_length = explore_best_neighbor(tsp, neighbors)\n",
        "\n",
        "  return current_solution, current_route_length, cost_value"
      ],
      "metadata": {
        "id": "VX3pImwTNo6d"
      },
      "execution_count": 40,
      "outputs": []
    },
    {
      "cell_type": "code",
      "source": [
        "def cost_value(x, y):\n",
        "  return x**2 + y**2\n",
        "\n",
        "def hill_climb(initial_x, initial_y, max_iterations=100, step_size=1):\n",
        "  current_x = initial_x\n",
        "  current_y = initial_y\n",
        "  best_x = current_x\n",
        "  best_y = current_y\n",
        "  best_cost = cost_function(current_x, current_y)\n",
        "\n",
        "  for _ in range(max_iterations):\n",
        "\n",
        "    neighbors = [(current_x + step_size, current_y), (current_x - step_size, current_y),\n",
        "                 (current_x, current_y + step_size), (current_x, current_y - step_size)]\n",
        "\n",
        "    for neighbor_x, neighbor_y in neighbors:\n",
        "\n",
        "      # Check if neighbor is within the bounds\n",
        "      if -10 <= neighbor_x <= 10 and -10 <= neighbor_y <= 10:\n",
        "        neighbor_cost = cost_function(neighbor_x, neighbor_y)\n",
        "\n",
        "        # If a better cost is found, best state will be updated\n",
        "        if neighbor_cost < best_cost:\n",
        "          best_x = neighbor_x\n",
        "          best_y = neighbor_y\n",
        "          best_cost = neighbor_cost\n",
        "\n",
        "      # Shift to the best neighbor found\n",
        "      current_x = best_x\n",
        "      current_y = best_y\n",
        "\n",
        "  return best_x, best_y, best_cost"
      ],
      "metadata": {
        "id": "OzH3QFk7SXkB"
      },
      "execution_count": 41,
      "outputs": []
    },
    {
      "cell_type": "markdown",
      "source": [
        "# Main Class"
      ],
      "metadata": {
        "id": "PQAEhy6PV65E"
      }
    },
    {
      "cell_type": "code",
      "source": [
        "def explore_best_neighbor(tsp, neighbors):\n",
        "\n",
        "    # Compute the distance between destinations (cities) - m*m\n",
        "    tsp = tsp_matrix(x,y)\n",
        "\n",
        "    # Best solution found using Hill Climbing Algorithm\n",
        "    best_solution, best_cost, cost_value, total_distance = hill_climbing(tsp)\n",
        "\n",
        "    print(\"\\n\" + f\"The best route to take is {best_solution} and the best cost is {best_cost}\")\n",
        "\n",
        "    plot_cost(cost_value)\n",
        "    plt.xlabel(\"iteration\")\n",
        "    plt.ylabel(\"cost\")\n",
        "\n",
        "    return best_neighbor, best_neighbor_length;"
      ],
      "metadata": {
        "id": "vJfayazaV_I6"
      },
      "execution_count": 53,
      "outputs": []
    },
    {
      "cell_type": "markdown",
      "source": [
        "# Visualization"
      ],
      "metadata": {
        "id": "cshjT3lFaTWc"
      }
    },
    {
      "cell_type": "code",
      "source": [
        "def visualize_landscape(tsp, optimal_solution):\n",
        "    x = range(len(cities))\n",
        "    y = range(len(cities))\n",
        "\n",
        "    # Get coordinates of optimal solution\n",
        "    optimal_x, optimal_y = cities[optimal_solution[0]], cities[optimal_solution[1]]\n",
        "\n",
        "    # Reshape tsp as a 2D array for imshow\n",
        "    costs = tsp.astype(np.float64).reshape(len(cities), len(cities))\n",
        "\n",
        "    # Create heatmap\n",
        "    plt.imshow(costs, cmap='hot', extent=(0, len(cities), 0, len(cities)))\n",
        "    plt.colorbar(label='Distance')\n",
        "    plt.xlabel('City')\n",
        "    plt.ylabel('City')\n",
        "    plt.title('Distance Heatmap')\n",
        "\n",
        "    # Plot optimal solution\n",
        "    plt.scatter(optimal_x, optimal_y, marker='o', color='green', label='Optimal Solution')\n",
        "    plt.legend()\n",
        "    plt.show()\n"
      ],
      "metadata": {
        "id": "V89fSTAqaWPE"
      },
      "execution_count": 54,
      "outputs": []
    },
    {
      "cell_type": "markdown",
      "source": [
        "## Text-Based Visualisation"
      ],
      "metadata": {
        "id": "dT_OK8jUm4GA"
      }
    },
    {
      "cell_type": "markdown",
      "source": [
        "**City Names:**\n",
        "\n",
        "- City 1: Dorado Park\n",
        "- City 2: Auas Blick\n",
        "- City 3: Wanaheda\n",
        "- City 4: Klein Windhoek\n",
        "- City 5: Eros\n",
        "\n",
        "**Initial State:**\n",
        "\n",
        "1. The algorithm starts with a random route visiting all cities (e.g., 2 -> 1 -> 3 -> 4 -> 5).\n",
        "2. It calculates the total distance traveled along this route.\n",
        "\n",
        "**Exploration:**\n",
        "\n",
        "1. The algorithm creates a set of \"neighbor\" routes. These are created by swapping the positions of two randomly chosen cities in the current route (e.g., swapping 2 and 3 creates 1 -> 3 -> 2 -> 4 -> 5).\n",
        "2. It calculates the total distance for each neighbor route.\n",
        "\n",
        "**Improvement:**\n",
        "\n",
        "1. The algorithm compares the total distances of all neighbors with the current route.\n",
        "2. If a neighbor has a shorter total distance, it becomes the new \"current\" route. This represents a move \"uphill\" towards a more optimal solution.\n",
        "\n",
        "**Iteration:**\n",
        "\n",
        "1. The exploration and improvement steps are repeated for a specified number of iterations (or until no better neighbors are found).\n",
        "\n",
        "**Termination and Result:**\n",
        "\n",
        "1. The algorithm terminates when there are no neighbors with a shorter distance than the current route.\n",
        "2. The final route represents the \"best solution\" found by the hill climbing algorithm, along with its total distance.\n",
        "\n",
        "**Visualization Example:**\n",
        "\n",
        "**Iteration 1:**\n",
        "\n",
        "- Current Route: 2 -> 1 -> 3 -> 4 -> 5 (Distance: D1)\n",
        "- Neighbors:\n",
        "    - 1 -> 3 -> 2 -> 4 -> 5 (Distance: D2)\n",
        "    - 2 -> 4 -> 1 -> 3 -> 5 (Distance: D3)\n",
        "    - ... (other neighbors)\n",
        "\n",
        "**Iteration 2 (Assuming D2 is shorter than D1):**\n",
        "\n",
        "- New Current Route: 1 -> 3 -> 2 -> 4 -> 5 (Distance: D2)\n",
        "- Neighbors are explored again based on the new current route.\n",
        "\n",
        "**...** (This process continues until termination)\n",
        "\n",
        "**Final Result:**\n",
        "\n",
        "- Best Route: (e.g., 3 -> 1 -> 4 -> 2 -> 5)\n",
        "- Total Distance: D_final (Shortest distance found)\n"
      ],
      "metadata": {
        "id": "rhNFKoyCm8bv"
      }
    }
  ]
}